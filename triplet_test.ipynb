{
 "cells": [
  {
   "cell_type": "code",
   "execution_count": 11,
   "id": "86b63050-8320-438f-8f8f-dc5d17450b32",
   "metadata": {},
   "outputs": [],
   "source": [
    "import numpy as np\n",
    "\n",
    "rng = np.random.default_rng()\n",
    "a = rng.integers(4, size=1000000)\n",
    "b = rng.integers(4, size=1000000)"
   ]
  },
  {
   "cell_type": "code",
   "execution_count": 12,
   "id": "1bdf465b-37c3-4d14-89b6-f81b0541faff",
   "metadata": {},
   "outputs": [
    {
     "data": {
      "text/plain": [
       "249849"
      ]
     },
     "execution_count": 12,
     "metadata": {},
     "output_type": "execute_result"
    }
   ],
   "source": [
    "sum(a==b)"
   ]
  },
  {
   "cell_type": "code",
   "execution_count": 3,
   "id": "83a30103-7791-4aef-81b8-9c0d018b7ba3",
   "metadata": {},
   "outputs": [
    {
     "data": {
      "text/plain": [
       "(array([1, 1, 0, 2, 1, 1, 1, 0, 0, 2]), array([1, 2, 2, 0, 0, 0, 1, 1, 1, 0]))"
      ]
     },
     "execution_count": 3,
     "metadata": {},
     "output_type": "execute_result"
    }
   ],
   "source": [
    "a,b"
   ]
  },
  {
   "cell_type": "code",
   "execution_count": 13,
   "id": "19cc631c-598c-4724-980b-949252a466ef",
   "metadata": {},
   "outputs": [],
   "source": [
    "from scipy.stats import multinomial\n",
    "rv = multinomial(9, [1/3]*3)"
   ]
  },
  {
   "cell_type": "code",
   "execution_count": 29,
   "id": "a5fc041d-8557-490d-97e7-46e80449f623",
   "metadata": {},
   "outputs": [
    {
     "data": {
      "text/plain": [
       "[((3, 3, 3), 85495)]"
      ]
     },
     "execution_count": 29,
     "metadata": {},
     "output_type": "execute_result"
    }
   ],
   "source": [
    "from collections import Counter\n",
    "Counter([tuple(i) for i in rv.rvs(size=1000000)]).most_common(1)"
   ]
  },
  {
   "cell_type": "code",
   "execution_count": 15,
   "id": "2566bf25-ba2e-4d53-bd3c-98c27ca91c32",
   "metadata": {},
   "outputs": [
    {
     "data": {
      "text/plain": [
       "False"
      ]
     },
     "execution_count": 15,
     "metadata": {},
     "output_type": "execute_result"
    }
   ],
   "source": [
    "a=[\"17\t0\t8485067\",\"17\t8485167\t10983615\",\"17\t10983867\t14036215\",\"17\t14036467\t29325752\",\"18\t10983867\t14036215\",\"18\t14036467\t29325752\",\"19\t10983867\t14036215\",\"27\t14036467\t29325752\"]\n",
    "from collections import defaultdict\n",
    "d=defaultdict(bool)\n",
    "d[1]"
   ]
  },
  {
   "cell_type": "code",
   "execution_count": 18,
   "id": "ebe4530c-282d-41d4-8ea6-4fa41dbe15cd",
   "metadata": {},
   "outputs": [],
   "source": [
    "def label_stretches(data):\n",
    "    seens = defaultdict(bool)\n",
    "    colours = ['0','100']\n",
    "    for row in data:\n",
    "        chrom = row.split()[0]\n",
    "        print(f'{row}\\t{colours[seens[chrom]]}')\n",
    "        seens[chrom] = not seens[chrom]"
   ]
  },
  {
   "cell_type": "code",
   "execution_count": 19,
   "id": "294ea223-0191-463c-909b-da9cb6e2445e",
   "metadata": {},
   "outputs": [
    {
     "name": "stdout",
     "output_type": "stream",
     "text": [
      "17\t0\t8485067\t0\n",
      "17\t8485167\t10983615\t100\n",
      "17\t10983867\t14036215\t0\n",
      "17\t14036467\t29325752\t100\n",
      "18\t10983867\t14036215\t0\n",
      "18\t14036467\t29325752\t100\n",
      "19\t10983867\t14036215\t0\n",
      "27\t14036467\t29325752\t0\n"
     ]
    }
   ],
   "source": [
    "label_stretches(a)"
   ]
  },
  {
   "cell_type": "code",
   "execution_count": null,
   "id": "71681ce4-e74f-4dc8-8f69-a2bfde15b008",
   "metadata": {},
   "outputs": [],
   "source": []
  }
 ],
 "metadata": {
  "kernelspec": {
   "display_name": "Python 3",
   "language": "python",
   "name": "python3"
  },
  "language_info": {
   "codemirror_mode": {
    "name": "ipython",
    "version": 3
   },
   "file_extension": ".py",
   "mimetype": "text/x-python",
   "name": "python",
   "nbconvert_exporter": "python",
   "pygments_lexer": "ipython3",
   "version": "3.8.3"
  }
 },
 "nbformat": 4,
 "nbformat_minor": 5
}
