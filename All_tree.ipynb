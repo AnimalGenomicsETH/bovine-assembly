{
 "cells": [
  {
   "cell_type": "code",
   "execution_count": 2,
   "id": "555b74e9-82a9-4c8f-83f1-eebfea5e28fe",
   "metadata": {},
   "outputs": [],
   "source": [
    "%matplotlib widget\n",
    "import pandas as pd\n",
    "import upsetplot\n",
    "import matplotlib.pyplot as plt\n",
    "from itertools import product\n",
    "\n",
    "df = pd.read_csv('run_218.df',index_col=list(range(30)))\n",
    "\n",
    "dfc = df[~df.id.str.contains('REFDEL')]\n",
    "dfc = dfc[~dfc.id.str.contains('MISDEL')]"
   ]
  },
  {
   "cell_type": "code",
   "execution_count": 74,
   "id": "ffb34f9d-39e8-42d6-b959-a67c7dfc3d22",
   "metadata": {},
   "outputs": [
    {
     "name": "stdout",
     "output_type": "stream",
     "text": [
      "['B_flye', 'B_hicanu', 'B_hifiasm', 'B_peregrine', 'B_raven', 'B_shasta', 'G_flye', 'G_hicanu', 'G_hifiasm', 'G_peregrine', 'G_raven', 'G_shasta', 'N_flye', 'N_hicanu', 'N_hifiasm', 'N_peregrine', 'N_raven', 'N_shasta', 'O_flye', 'O_hicanu', 'O_hifiasm', 'O_peregrine', 'O_raven', 'O_shasta', 'P_flye', 'P_hicanu', 'P_hifiasm', 'P_peregrine', 'P_raven', 'P_shasta']\n"
     ]
    }
   ],
   "source": [
    "sorted_names= sorted(['O_peregrine', 'O_hicanu', 'N_peregrine', 'G_flye', 'G_peregrine', 'O_raven', 'P_peregrine', 'O_flye', 'N_hicanu', 'N_shasta', 'G_raven', 'O_shasta', 'N_flye', 'N_raven', 'B_flye', 'G_hifiasm', 'P_hifiasm', 'B_shasta', 'P_shasta', 'B_raven', 'P_raven', 'B_hifiasm', 'B_hicanu', 'N_hifiasm', 'O_hifiasm', 'G_hicanu', 'G_shasta', 'P_flye', 'P_hicanu', 'B_peregrine'])\n",
    "print(sorted_names)"
   ]
  },
  {
   "cell_type": "code",
   "execution_count": 75,
   "id": "4aeca0bf-22fe-44b8-a6fe-f88222e8a27c",
   "metadata": {},
   "outputs": [],
   "source": [
    "sorted_names = list('_'.join(p) for p in product(('O','B','P','N','G'),('peregrine','hicanu','hifiasm','shasta','flye','raven')))\n",
    "dfx= df.reset_index()\n",
    "dfx= dfx[sorted_names+['id','length']]\n",
    "dfx.to_csv('run_219.df',index=False)\n",
    "df2 = pd.read_csv('run_219.df',index_col=list(range(30)))\n",
    "dfc = df2[~df2.id.str.contains('REFDEL')]\n",
    "dfc = dfc[~dfc.id.str.contains('MISDEL')]\n",
    "#dfc = pd.MultiIndex.from_frame(dfx)"
   ]
  },
  {
   "cell_type": "code",
   "execution_count": 81,
   "id": "d4e9b807-f9c1-4260-8cea-591c6ad0ec9e",
   "metadata": {},
   "outputs": [
    {
     "data": {
      "application/vnd.jupyter.widget-view+json": {
       "model_id": "a396959e46284b799c85dd07fc0ad2f8",
       "version_major": 2,
       "version_minor": 0
      },
      "text/plain": [
       "Canvas(toolbar=Toolbar(toolitems=[('Home', 'Reset original view', 'home', 'home'), ('Back', 'Back to previous …"
      ]
     },
     "metadata": {},
     "output_type": "display_data"
    },
    {
     "data": {
      "text/plain": [
       "{'matrix': <AxesSubplot:>,\n",
       " 'shading': <AxesSubplot:>,\n",
       " 'totals': <AxesSubplot:>,\n",
       " 'intersections': <AxesSubplot:ylabel='Intersection size'>}"
      ]
     },
     "execution_count": 81,
     "metadata": {},
     "output_type": "execute_result"
    }
   ],
   "source": [
    "upsetplot.plot(dfc,sort_by='cardinality',sort_categories_by=None,min_subset_size=500)\n",
    "#plt.savefig('testfig.png')"
   ]
  },
  {
   "cell_type": "code",
   "execution_count": 14,
   "id": "04242731-4aab-4802-b23b-4521fa7e5a53",
   "metadata": {},
   "outputs": [
    {
     "name": "stdout",
     "output_type": "stream",
     "text": [
      "[('O', 'peregrine'), ('O', 'hicanu'), ('O', 'hifiasm')]\n"
     ]
    }
   ],
   "source": [
    "intersections = upsetplot.UpSet(dfc).intersections\n",
    "names = dfc.index.names\n",
    "\n"
   ]
  },
  {
   "cell_type": "code",
   "execution_count": 177,
   "id": "e31cb05b-2755-467f-8ef6-04018979d44a",
   "metadata": {},
   "outputs": [],
   "source": [
    "from itertools import product\n",
    "taur_h = list('_'.join(p) for p in product(('O','B','P','G','N'),('peregrine','hicanu','hifiasm')))\n",
    "taur_s = list('_'.join(p) for p in product(('O','B','P','G','N'),('shasta','flye','raven')))\n",
    "\n"
   ]
  },
  {
   "cell_type": "code",
   "execution_count": 191,
   "id": "e4b8c43e-33a1-41e8-97af-3d2057085653",
   "metadata": {},
   "outputs": [
    {
     "name": "stdout",
     "output_type": "stream",
     "text": [
      "gc.xs(True,level=\"O_hifiasm\",drop_level=False).xs(True,level=\"B_hifiasm\",drop_level=False).xs(True,level=\"P_hifiasm\",drop_level=False).xs(True,level=\"G_hifiasm\",drop_level=False).xs(True,level=\"N_hifiasm\",drop_level=False).xs(False,level=\"O_shasta\",drop_level=False).xs(False,level=\"B_shasta\",drop_level=False).xs(False,level=\"P_shasta\",drop_level=False).xs(False,level=\"G_shasta\",drop_level=False).xs(False,level=\"N_shasta\",drop_level=False)\n"
     ]
    }
   ],
   "source": [
    "slicer_h = 'gc'\n",
    "slicer_s = 'gc'\n",
    "for i in taur_h[2::3]:\n",
    "    slicer_h += f'.xs(True,level=\"{i}\",drop_level=False)'\n",
    "    slicer_s += f'.xs(False,level=\"{i}\",drop_level=False)'\n",
    "for i in taur_s[::3]:\n",
    "    slicer_h += f'.xs(False,level=\"{i}\",drop_level=False)'\n",
    "    slicer_s += f'.xs(True,level=\"{i}\",drop_level=False)'\n",
    "print(slicer_h)\n",
    "\n"
   ]
  },
  {
   "cell_type": "code",
   "execution_count": 192,
   "id": "d7ed57f5-208a-49ce-9337-2f7650de9338",
   "metadata": {},
   "outputs": [],
   "source": [
    "g=pd.read_csv('run_10.df',index_col=list(range(10)))\n",
    "gc = g[~g.id.str.contains('REFDEL')]\n",
    "gc = gc[~gc.id.str.contains('MISDEL')]\n",
    "gc = gc[~gc.id.str.contains('INV')]"
   ]
  },
  {
   "cell_type": "code",
   "execution_count": 195,
   "id": "9de1fadc-5e03-46c8-9f14-080452968e98",
   "metadata": {},
   "outputs": [
    {
     "name": "stdout",
     "output_type": "stream",
     "text": [
      "                                                                                                      id  \\\n",
      "P_shasta B_shasta N_hifiasm O_shasta P_hifiasm O_hifiasm G_hifiasm B_hifiasm N_shasta G_shasta             \n",
      "False    False    True      False    True      True      True      True      False    False     s11269_5   \n",
      "                                                                                      False     s11272_5   \n",
      "                                                                                      False     s11274_5   \n",
      "                                                                                      False     s11278_5   \n",
      "                                                                                      False     s11280_5   \n",
      "                                                                                      False     s11283_5   \n",
      "                                                                                      False     s11285_5   \n",
      "                                                                                      False     s11288_5   \n",
      "                                                                                      False     s11295_5   \n",
      "                                                                                      False     s11298_5   \n",
      "                                                                                      False     s11300_5   \n",
      "                                                                                      False     s11302_5   \n",
      "                                                                                      False     s11304_5   \n",
      "                                                                                      False     s11311_5   \n",
      "                                                                                      False     s11312_5   \n",
      "                                                                                      False     s11314_5   \n",
      "                                                                                      False     s11318_5   \n",
      "                                                                                      False     s11320_5   \n",
      "                                                                                      False     s11322_5   \n",
      "                                                                                      False     s11324_5   \n",
      "                                                                                      False     s11330_5   \n",
      "                                                                                      False     s11332_5   \n",
      "                                                                                      False     s11334_5   \n",
      "                                                                                      False     s11340_5   \n",
      "                                                                                      False     s11342_5   \n",
      "                                                                                      False     s11344_5   \n",
      "                                                                                      False     s11346_5   \n",
      "                                                                                      False     s11348_5   \n",
      "                                                                                      False     s11355_5   \n",
      "                                                                                      False     s11357_5   \n",
      "                                                                                      False     s11360_5   \n",
      "                                                                                      False     s11362_5   \n",
      "\n",
      "                                                                                                length  \n",
      "P_shasta B_shasta N_hifiasm O_shasta P_hifiasm O_hifiasm G_hifiasm B_hifiasm N_shasta G_shasta          \n",
      "False    False    True      False    True      True      True      True      False    False      24880  \n",
      "                                                                                      False       5432  \n",
      "                                                                                      False       1514  \n",
      "                                                                                      False       7852  \n",
      "                                                                                      False       8022  \n",
      "                                                                                      False       5730  \n",
      "                                                                                      False      13642  \n",
      "                                                                                      False       3056  \n",
      "                                                                                      False       7657  \n",
      "                                                                                      False       2556  \n",
      "                                                                                      False       1629  \n",
      "                                                                                      False       5306  \n",
      "                                                                                      False       1784  \n",
      "                                                                                      False       5272  \n",
      "                                                                                      False       1334  \n",
      "                                                                                      False       5013  \n",
      "                                                                                      False       3808  \n",
      "                                                                                      False       6209  \n",
      "                                                                                      False       3294  \n",
      "                                                                                      False       2388  \n",
      "                                                                                      False       2386  \n",
      "                                                                                      False       4171  \n",
      "                                                                                      False       1745  \n",
      "                                                                                      False       2253  \n",
      "                                                                                      False       1061  \n",
      "                                                                                      False       4545  \n",
      "                                                                                      False       2311  \n",
      "                                                                                      False      23681  \n",
      "                                                                                      False      15295  \n",
      "                                                                                      False      14625  \n",
      "                                                                                      False       4921  \n",
      "                                                                                      False      49775  \n",
      "                                                                                                      id  \\\n",
      "P_shasta B_shasta N_hifiasm O_shasta P_hifiasm O_hifiasm G_hifiasm B_hifiasm N_shasta G_shasta             \n",
      "True     True     False     True     False     False     False     False     True     True       s7203_5   \n",
      "                                                                                      True       s9197_6   \n",
      "                                                                                      True       s9199_6   \n",
      "                                                                                      True       s9203_6   \n",
      "                                                                                      True       s9205_6   \n",
      "                                                                                      True       s9207_6   \n",
      "                                                                                      True       s9211_6   \n",
      "                                                                                      True       s9213_6   \n",
      "                                                                                      True       s9220_6   \n",
      "                                                                                      True       s9222_6   \n",
      "                                                                                      True       s9224_6   \n",
      "                                                                                      True       s9226_6   \n",
      "                                                                                      True       s9227_6   \n",
      "                                                                                      True       s8820_8   \n",
      "                                                                                      True       s8821_8   \n",
      "                                                                                      True       s8825_8   \n",
      "                                                                                      True       s8827_8   \n",
      "                                                                                      True       s8831_8   \n",
      "                                                                                      True       s8833_8   \n",
      "                                                                                      True       s8835_8   \n",
      "                                                                                      True       s8837_8   \n",
      "                                                                                      True       s8839_8   \n",
      "                                                                                      True       s8841_8   \n",
      "                                                                                      True       s8843_8   \n",
      "                                                                                      True       s8845_8   \n",
      "                                                                                      True      s6024_14   \n",
      "                                                                                      True      s6028_14   \n",
      "                                                                                      True      s6029_14   \n",
      "                                                                                      True      s6036_14   \n",
      "                                                                                      True      s6038_14   \n",
      "\n",
      "                                                                                                length  \n",
      "P_shasta B_shasta N_hifiasm O_shasta P_hifiasm O_hifiasm G_hifiasm B_hifiasm N_shasta G_shasta          \n",
      "True     True     False     True     False     False     False     False     True     True        1015  \n",
      "                                                                                      True        1006  \n",
      "                                                                                      True        1491  \n",
      "                                                                                      True        8806  \n",
      "                                                                                      True        4980  \n",
      "                                                                                      True       23093  \n",
      "                                                                                      True       31400  \n",
      "                                                                                      True        2095  \n",
      "                                                                                      True       11366  \n",
      "                                                                                      True       13075  \n",
      "                                                                                      True       41955  \n",
      "                                                                                      True       11833  \n",
      "                                                                                      True        1946  \n",
      "                                                                                      True       14521  \n",
      "                                                                                      True       11213  \n",
      "                                                                                      True        3044  \n",
      "                                                                                      True        2062  \n",
      "                                                                                      True        2766  \n",
      "                                                                                      True        3267  \n",
      "                                                                                      True        2848  \n",
      "                                                                                      True        2335  \n",
      "                                                                                      True        5676  \n",
      "                                                                                      True        5035  \n",
      "                                                                                      True        1347  \n",
      "                                                                                      True       10288  \n",
      "                                                                                      True       12300  \n",
      "                                                                                      True       15371  \n",
      "                                                                                      True        4285  \n",
      "                                                                                      True        1269  \n",
      "                                                                                      True        4823  \n"
     ]
    }
   ],
   "source": [
    "h_only = eval(slicer_h)\n",
    "s_only = eval(slicer_s)\n",
    "print(h_only[h_only['length']>1000])\n",
    "print(s_only[s_only['length']>1000])"
   ]
  },
  {
   "cell_type": "code",
   "execution_count": null,
   "id": "b568dce1-b806-41e2-8e84-de58651b4b79",
   "metadata": {},
   "outputs": [],
   "source": [
    "repeat_rows = []\n",
    "\n",
    "for i in bubbles:\n",
    "    split = i.split('_')\n",
    "    chrom, node = split[-1], split[0]\n",
    "    fname = get_dir('SV','{chr}.L{L}.gfa',chr=chrom,**wildcards)\n",
    "    search_string = f'$1==\"S\" && $2==\"{node}\" {{print \">{node}\\n\"$3}}'\n",
    "    fout = get_dir('repeat',f'{chrom}.{node}.fa',**wildcards)\n",
    "    \n",
    "    shell(f'awk {search_string} {fname} > {fout}')\n",
    "    shell(f'RepeatMasker -xsmall -lib {config['repeat_library']} -qq -no_is {fout}')\n",
    "    row = extract_repeats(fout+'.tbl')\n",
    "    row.update({'chr':chrom,'node':node})\n",
    "    repeat_rows.append(row)\n",
    "\n",
    "def extract_repeats(fname):\n",
    "    elements = ('SINEs','LINEs','LTR elements', 'Satellites', 'Unclassified')\n",
    "    repeats = dict()\n",
    "\n",
    "    with open(fname,'r') as file_:\n",
    "        for line in file_:\n",
    "            if 'total length' in line:\n",
    "                repeats['length'] = int(line.split('(')[1].split()[0])\n",
    "            elif 'GC level' in line:\n",
    "                repeats['GC'] = float(line.split()[2])\n",
    "            elif 'bases masked' in line:\n",
    "                repeats['masked'] = float(line.split()[5])\n",
    "            for element in elements:\n",
    "                if element in line:\n",
    "                    repeats[element] = float(line.split('bp')[1].split()[0])\n",
    "    return repeats"
   ]
  },
  {
   "cell_type": "code",
   "execution_count": 3,
   "id": "0933bfc4-90ad-423c-b00e-0edbef9f1389",
   "metadata": {},
   "outputs": [],
   "source": [
    "import seaborn as sns"
   ]
  },
  {
   "cell_type": "code",
   "execution_count": 17,
   "id": "6e52c79d-29db-40f0-b22e-9bfe51801e21",
   "metadata": {},
   "outputs": [],
   "source": [
    "ds = []\n",
    "for i in range(300,310):\n",
    "    df = pd.read_csv(f'bubbles_repeat.{i}.df')\n",
    "    df['call'] = i\n",
    "    ds.append(df)\n",
    "df=pd.concat(ds)"
   ]
  },
  {
   "cell_type": "code",
   "execution_count": 18,
   "id": "21f488cc-7109-40a1-b6fa-f4a5eca79fa5",
   "metadata": {},
   "outputs": [
    {
     "name": "stdout",
     "output_type": "stream",
     "text": [
      "Index(['length', 'GC', 'masked', 'SINEs', 'LINEs', 'LTR elements',\n",
      "       'Unclassified', 'Satellites', 'data', 'chr', 'node', 'call'],\n",
      "      dtype='object')\n",
      "length          float64\n",
      "GC              float64\n",
      "masked          float64\n",
      "SINEs           float64\n",
      "LINEs           float64\n",
      "LTR elements    float64\n",
      "Unclassified    float64\n",
      "Satellites      float64\n",
      "data             object\n",
      "chr               int64\n",
      "node             object\n",
      "call              int64\n",
      "dtype: object\n"
     ]
    }
   ],
   "source": [
    "print(df.columns)\n",
    "print(df.dtypes)"
   ]
  },
  {
   "cell_type": "code",
   "execution_count": 19,
   "id": "4f86b2f8-5ab3-4d7d-80c8-02425ff7a88a",
   "metadata": {},
   "outputs": [
    {
     "data": {
      "application/vnd.jupyter.widget-view+json": {
       "model_id": "bfdc3ef2a8c64e529e064e3443ef9945",
       "version_major": 2,
       "version_minor": 0
      },
      "text/plain": [
       "Canvas(toolbar=Toolbar(toolitems=[('Home', 'Reset original view', 'home', 'home'), ('Back', 'Back to previous …"
      ]
     },
     "metadata": {},
     "output_type": "display_data"
    },
    {
     "data": {
      "text/plain": [
       "<seaborn.axisgrid.PairGrid at 0x7ffbb7f9a9d0>"
      ]
     },
     "execution_count": 19,
     "metadata": {},
     "output_type": "execute_result"
    }
   ],
   "source": [
    "sns.pairplot(data=df,hue='data',corner=True,diag_kind='hist',diag_kws={'common_norm':False,'stat':'density'},grid_kws={'diag_sharey':False})\n"
   ]
  },
  {
   "cell_type": "code",
   "execution_count": 59,
   "id": "b2354938-b0e8-485c-9cc3-cf621780826b",
   "metadata": {},
   "outputs": [
    {
     "data": {
      "text/html": [
       "<div>\n",
       "<style scoped>\n",
       "    .dataframe tbody tr th:only-of-type {\n",
       "        vertical-align: middle;\n",
       "    }\n",
       "\n",
       "    .dataframe tbody tr th {\n",
       "        vertical-align: top;\n",
       "    }\n",
       "\n",
       "    .dataframe thead th {\n",
       "        text-align: right;\n",
       "    }\n",
       "</style>\n",
       "<table border=\"1\" class=\"dataframe\">\n",
       "  <thead>\n",
       "    <tr style=\"text-align: right;\">\n",
       "      <th></th>\n",
       "      <th>length</th>\n",
       "      <th>GC</th>\n",
       "      <th>masked</th>\n",
       "      <th>SINEs</th>\n",
       "      <th>LINEs</th>\n",
       "      <th>LTR elements</th>\n",
       "      <th>Unclassified</th>\n",
       "      <th>Satellites</th>\n",
       "      <th>chr</th>\n",
       "      <th>call</th>\n",
       "    </tr>\n",
       "    <tr>\n",
       "      <th>data</th>\n",
       "      <th></th>\n",
       "      <th></th>\n",
       "      <th></th>\n",
       "      <th></th>\n",
       "      <th></th>\n",
       "      <th></th>\n",
       "      <th></th>\n",
       "      <th></th>\n",
       "      <th></th>\n",
       "      <th></th>\n",
       "    </tr>\n",
       "  </thead>\n",
       "  <tbody>\n",
       "    <tr>\n",
       "      <th>HiFi</th>\n",
       "      <td>2751.0</td>\n",
       "      <td>46.60</td>\n",
       "      <td>99.96</td>\n",
       "      <td>0.0</td>\n",
       "      <td>0.0</td>\n",
       "      <td>0.0</td>\n",
       "      <td>0.0</td>\n",
       "      <td>99.61</td>\n",
       "      <td>4</td>\n",
       "      <td>304</td>\n",
       "    </tr>\n",
       "    <tr>\n",
       "      <th>ONT</th>\n",
       "      <td>1765.0</td>\n",
       "      <td>47.25</td>\n",
       "      <td>99.89</td>\n",
       "      <td>0.0</td>\n",
       "      <td>0.0</td>\n",
       "      <td>0.0</td>\n",
       "      <td>0.0</td>\n",
       "      <td>99.89</td>\n",
       "      <td>4</td>\n",
       "      <td>303</td>\n",
       "    </tr>\n",
       "  </tbody>\n",
       "</table>\n",
       "</div>"
      ],
      "text/plain": [
       "      length     GC  masked  SINEs  LINEs  LTR elements  Unclassified  \\\n",
       "data                                                                    \n",
       "HiFi  2751.0  46.60   99.96    0.0    0.0           0.0           0.0   \n",
       "ONT   1765.0  47.25   99.89    0.0    0.0           0.0           0.0   \n",
       "\n",
       "      Satellites  chr  call  \n",
       "data                         \n",
       "HiFi       99.61    4   304  \n",
       "ONT        99.89    4   303  "
      ]
     },
     "execution_count": 59,
     "metadata": {},
     "output_type": "execute_result"
    }
   ],
   "source": [
    "df[df['Satellites']>0].groupby(['data']).median()"
   ]
  },
  {
   "cell_type": "code",
   "execution_count": 21,
   "id": "d5e757be-6bdc-4d9a-8483-7ff500fbd73d",
   "metadata": {},
   "outputs": [],
   "source": [
    "import scipy.stats as ss"
   ]
  },
  {
   "cell_type": "code",
   "execution_count": 32,
   "id": "291309fe-a0e6-42a3-adb8-02cc3485be2d",
   "metadata": {},
   "outputs": [
    {
     "name": "stdout",
     "output_type": "stream",
     "text": [
      "SINEs\n",
      "1.3851261512022712e-13\n",
      "0.9999999999998618\n",
      "LINEs\n",
      "0.9999999996848143\n",
      "3.157018513679383e-10\n",
      "LTR elements\n",
      "0.9994792999406322\n",
      "0.0005211886120029712\n",
      "Satellites\n",
      "0.595245454720567\n",
      "0.40501623270941634\n",
      "Unclassified\n",
      "0.024100417360328613\n",
      "0.9759140824216059\n",
      "GC\n",
      "0.5366741283807454\n",
      "0.4634271765312059\n",
      "masked\n",
      "0.9999770975122745\n",
      "2.2927603531613923e-05\n",
      "length\n",
      "0.9999999930375888\n",
      "6.972789180845565e-09\n"
     ]
    }
   ],
   "source": [
    "df=df.dropna()\n",
    "for i in ('SINEs','LINEs','LTR elements', 'Satellites', 'Unclassified','GC','masked','length'):\n",
    "    print(i)\n",
    "    print(ss.mannwhitneyu(df[df['data']=='HiFi'][i],df[df['data']=='ONT'][i],alternative='less',)[1])\n",
    "    print(ss.mannwhitneyu(df[df['data']=='HiFi'][i],df[df['data']=='ONT'][i],alternative='greater')[1])"
   ]
  },
  {
   "cell_type": "code",
   "execution_count": 55,
   "id": "287e6b2a-e8c8-420a-a529-6c855c1d7274",
   "metadata": {},
   "outputs": [
    {
     "name": "stdout",
     "output_type": "stream",
     "text": [
      "       length     GC  masked  SINEs  LINEs  LTR elements  Unclassified  \\\n",
      "78     3775.0  46.57   99.89   0.00   0.00          0.00          0.00   \n",
      "79     1720.0  45.29   66.57   0.00   0.00          0.00         66.57   \n",
      "80    21458.0  39.81   54.02   5.35  17.73          2.64         27.50   \n",
      "81    76225.0  41.62   54.89   6.46  20.76          4.82         22.28   \n",
      "82    31157.0  43.29   53.62   3.69  32.36          2.20         14.86   \n",
      "83     5889.0  37.68   74.73   3.45   0.00          1.19         68.60   \n",
      "84     1962.0  46.94   33.79   8.46   6.01         14.83          4.49   \n",
      "85     1509.0  42.81   90.46  13.32   6.89          1.46         68.79   \n",
      "86     2482.0  46.82   34.29  18.09   0.00          0.00         16.20   \n",
      "87     3873.0  52.67   23.26   0.00   0.00         13.79          4.52   \n",
      "88     1850.0  50.27   11.51  11.51   0.00          0.00          0.00   \n",
      "89     3959.0  48.47    8.21   5.23   2.98          0.00          0.00   \n",
      "90     5085.0  53.49   20.71   9.44   3.21          0.00          7.06   \n",
      "91    14516.0  48.71    5.13   2.75   0.00          0.00          1.70   \n",
      "92    11123.0  55.17    9.99   2.46   0.00          0.00          4.64   \n",
      "93     3106.0  54.51   36.41   9.66   0.00         12.49         14.26   \n",
      "94     2065.0  47.36   33.08  13.75   0.00          0.00         19.32   \n",
      "95     2801.0  42.34   69.30  14.39   9.96          0.00         44.95   \n",
      "96     3271.0  42.65   39.19   3.88   0.00          0.00         35.31   \n",
      "97     2877.0  44.66   29.27  20.02   0.00          9.25          0.00   \n",
      "98     2333.0  45.95   37.08   8.74   0.00          4.59         22.50   \n",
      "99     5707.0  45.96   31.77  18.61   4.31          0.00          6.59   \n",
      "100   16995.0  47.94   28.78  15.75   5.97          0.00          6.70   \n",
      "101    2054.0  48.88   45.72   8.57   0.00          0.00         23.52   \n",
      "102    5584.0  41.53   95.72   8.90  33.99         12.02         40.37   \n",
      "103    1709.0  35.40   99.01  12.05  55.82          0.00         31.13   \n",
      "104    7314.0  45.13   49.02  18.90  24.23          1.74          3.69   \n",
      "105    9242.0  38.07   66.08  12.58  19.57          0.00         33.64   \n",
      "106    2296.0  50.39   99.48  13.85  79.05          5.88          0.70   \n",
      "107   65774.0  40.32   50.31   6.42  25.07          2.18         15.90   \n",
      "108   12658.0  41.91   48.22   6.97  12.71          0.12         28.09   \n",
      "109    1573.0  64.21    2.23   0.00   0.00          0.00          0.00   \n",
      "110  126347.0  45.96   39.52   6.60  10.97          5.50         14.71   \n",
      "\n",
      "     Satellites data  chr   node  call  \n",
      "78        99.89  ONT    4  s3955   305  \n",
      "79         0.00  ONT    4  s3271   305  \n",
      "80         0.00  ONT    5  s3737   305  \n",
      "81         0.00  ONT    5  s3739   305  \n",
      "82         0.00  ONT    5  s3741   305  \n",
      "83         0.00  ONT    5  s3743   305  \n",
      "84         0.00  ONT    5  s3744   305  \n",
      "85         0.00  ONT    5  s3746   305  \n",
      "86         0.00  ONT    8  s1384   305  \n",
      "87         0.00  ONT    8  s1386   305  \n",
      "88         0.00  ONT    8  s1393   305  \n",
      "89         0.00  ONT    8  s1396   305  \n",
      "90         0.00  ONT    8  s1400   305  \n",
      "91         0.00  ONT    8  s3237   305  \n",
      "92         0.00  ONT    8  s3239   305  \n",
      "93         0.00  ONT    8  s3241   305  \n",
      "94         0.00  ONT    8  s3243   305  \n",
      "95         0.00  ONT    8  s3247   305  \n",
      "96         0.00  ONT    8  s3249   305  \n",
      "97         0.00  ONT    8  s3251   305  \n",
      "98         0.00  ONT    8  s3253   305  \n",
      "99         0.00  ONT    8  s3255   305  \n",
      "100        0.00  ONT    8  s3257   305  \n",
      "101        0.00  ONT    8  s1401   305  \n",
      "102        0.00  ONT    8  s1404   305  \n",
      "103        0.00  ONT    8  s1405   305  \n",
      "104        0.00  ONT    8  s1407   305  \n",
      "105        0.00  ONT    8  s1409   305  \n",
      "106        0.00  ONT   11  s3064   305  \n",
      "107        0.00  ONT   16   s419   305  \n",
      "108        0.00  ONT   17  s2334   305  \n",
      "109        0.00  ONT   27  s1954   305  \n",
      "110        0.00  ONT   27  s1955   305  \n"
     ]
    }
   ],
   "source": [
    "df[(df['data']=='ONT')&(df['call']==301)]\n",
    "print(df[(df['data']=='ONT')&(df['call']==305)])"
   ]
  }
 ],
 "metadata": {
  "kernelspec": {
   "display_name": "Python 3 (ipykernel)",
   "language": "python",
   "name": "python3"
  },
  "language_info": {
   "codemirror_mode": {
    "name": "ipython",
    "version": 3
   },
   "file_extension": ".py",
   "mimetype": "text/x-python",
   "name": "python",
   "nbconvert_exporter": "python",
   "pygments_lexer": "ipython3",
   "version": "3.10.4"
  }
 },
 "nbformat": 4,
 "nbformat_minor": 5
}
