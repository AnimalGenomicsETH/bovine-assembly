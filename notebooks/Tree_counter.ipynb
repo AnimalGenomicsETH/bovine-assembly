{
 "cells": [
  {
   "cell_type": "code",
   "execution_count": 1,
   "id": "988ae67a-305f-47f2-9e45-66d8787b1765",
   "metadata": {},
   "outputs": [],
   "source": [
    "%matplotlib widget\n",
    "import seaborn as sns\n",
    "import matplotlib.pyplot as plt\n",
    "from collections import Counter\n",
    "import pandas as pd\n",
    "import re\n",
    "\n",
    "#stripper function\n",
    "def strip_tree(tree):\n",
    "     return re.sub('(\\d|:|_|\\.|[a-z])', '', tree)"
   ]
  },
  {
   "cell_type": "code",
   "execution_count": 2,
   "id": "af2fa626-c9c7-4f6d-a615-50f3cf68751e",
   "metadata": {},
   "outputs": [],
   "source": [
    "def load_trees(fname):\n",
    "    with open(fname,'r') as fin:\n",
    "        return [l.rstrip().split(';') for l in fin][0][:-1]"
   ]
  },
  {
   "cell_type": "code",
   "execution_count": 5,
   "id": "54d4f538-ac32-467c-ae07-185bb332c271",
   "metadata": {},
   "outputs": [
    {
     "data": {
      "text/html": [
       "<div>\n",
       "<style scoped>\n",
       "    .dataframe tbody tr th:only-of-type {\n",
       "        vertical-align: middle;\n",
       "    }\n",
       "\n",
       "    .dataframe tbody tr th {\n",
       "        vertical-align: top;\n",
       "    }\n",
       "\n",
       "    .dataframe thead th {\n",
       "        text-align: right;\n",
       "    }\n",
       "</style>\n",
       "<table border=\"1\" class=\"dataframe\">\n",
       "  <thead>\n",
       "    <tr style=\"text-align: right;\">\n",
       "      <th></th>\n",
       "      <th>run</th>\n",
       "      <th>chr</th>\n",
       "      <th>order</th>\n",
       "    </tr>\n",
       "    <tr>\n",
       "      <th>config</th>\n",
       "      <th></th>\n",
       "      <th></th>\n",
       "      <th></th>\n",
       "    </tr>\n",
       "  </thead>\n",
       "  <tbody>\n",
       "    <tr>\n",
       "      <th>all_eith</th>\n",
       "      <td>580</td>\n",
       "      <td>580</td>\n",
       "      <td>580</td>\n",
       "    </tr>\n",
       "    <tr>\n",
       "      <th>all_shuf</th>\n",
       "      <td>290</td>\n",
       "      <td>290</td>\n",
       "      <td>290</td>\n",
       "    </tr>\n",
       "    <tr>\n",
       "      <th>either</th>\n",
       "      <td>580</td>\n",
       "      <td>580</td>\n",
       "      <td>580</td>\n",
       "    </tr>\n",
       "    <tr>\n",
       "      <th>flye</th>\n",
       "      <td>87</td>\n",
       "      <td>87</td>\n",
       "      <td>87</td>\n",
       "    </tr>\n",
       "    <tr>\n",
       "      <th>hicanu</th>\n",
       "      <td>29</td>\n",
       "      <td>29</td>\n",
       "      <td>29</td>\n",
       "    </tr>\n",
       "    <tr>\n",
       "      <th>hifiasm</th>\n",
       "      <td>145</td>\n",
       "      <td>145</td>\n",
       "      <td>145</td>\n",
       "    </tr>\n",
       "    <tr>\n",
       "      <th>hs_shuf</th>\n",
       "      <td>290</td>\n",
       "      <td>290</td>\n",
       "      <td>290</td>\n",
       "    </tr>\n",
       "    <tr>\n",
       "      <th>peregrine</th>\n",
       "      <td>87</td>\n",
       "      <td>87</td>\n",
       "      <td>87</td>\n",
       "    </tr>\n",
       "    <tr>\n",
       "      <th>raven</th>\n",
       "      <td>87</td>\n",
       "      <td>87</td>\n",
       "      <td>87</td>\n",
       "    </tr>\n",
       "    <tr>\n",
       "      <th>shasta</th>\n",
       "      <td>145</td>\n",
       "      <td>145</td>\n",
       "      <td>145</td>\n",
       "    </tr>\n",
       "  </tbody>\n",
       "</table>\n",
       "</div>"
      ],
      "text/plain": [
       "           run  chr  order\n",
       "config                    \n",
       "all_eith   580  580    580\n",
       "all_shuf   290  290    290\n",
       "either     580  580    580\n",
       "flye        87   87     87\n",
       "hicanu      29   29     29\n",
       "hifiasm    145  145    145\n",
       "hs_shuf    290  290    290\n",
       "peregrine   87   87     87\n",
       "raven       87   87     87\n",
       "shasta     145  145    145"
      ]
     },
     "execution_count": 5,
     "metadata": {},
     "output_type": "execute_result"
    }
   ],
   "source": [
    "trees = load_trees(\"joined_trees.txt\")\n",
    "rows = []\n",
    "\n",
    "for i,comb in enumerate([strip_tree(tree) for tree in trees]):\n",
    "    \n",
    "    x = comb.replace('(','').replace(')','').replace(',','')[:3]\n",
    "    code = '-'.join(sorted(x[:2])+[x[2]])\n",
    "        \n",
    "    chrom = (i%29)+1\n",
    "    chrom = chrom if chrom <= 29 else 'all'\n",
    "      \n",
    "    config = None\n",
    "    run = i//29\n",
    "    if run < 5:\n",
    "        config = 'shasta'\n",
    "    elif run < 10:\n",
    "        config = 'hifiasm'\n",
    "    elif run < 20:\n",
    "        config = 'hs_shuf'\n",
    "    elif run < 40:\n",
    "        config = 'either'\n",
    "    elif run < 43:\n",
    "        config = 'peregrine'\n",
    "    elif run < 46:\n",
    "        config = 'raven'\n",
    "    elif run < 49:\n",
    "        config = 'flye'\n",
    "    elif run < 50:\n",
    "        config = 'hicanu'\n",
    "    elif run < 60:\n",
    "        config = 'all_shuf'\n",
    "    elif run < 80:\n",
    "        config = 'all_eith'\n",
    "    rows.append({'run':i//30,'chr':chrom,'order':code,'config':config})\n",
    "df = pd.DataFrame(rows)"
   ]
  },
  {
   "cell_type": "code",
   "execution_count": 20,
   "id": "83c9f1e3-d5e6-44d2-b13a-4dd65c66ad30",
   "metadata": {
    "tags": []
   },
   "outputs": [
    {
     "data": {
      "application/vnd.jupyter.widget-view+json": {
       "model_id": "e9fde0275e164320852db02a5b7c5978",
       "version_major": 2,
       "version_minor": 0
      },
      "text/plain": [
       "Canvas(toolbar=Toolbar(toolitems=[('Home', 'Reset original view', 'home', 'home'), ('Back', 'Back to previous …"
      ]
     },
     "metadata": {},
     "output_type": "display_data"
    },
    {
     "data": {
      "text/plain": [
       "<seaborn.axisgrid.FacetGrid at 0x7fcc8e0dc340>"
      ]
     },
     "execution_count": 20,
     "metadata": {},
     "output_type": "execute_result"
    }
   ],
   "source": [
    "sns.catplot(data=df,x='chr',kind='count',hue='order',col_wrap=4,col='config')"
   ]
  },
  {
   "cell_type": "code",
   "execution_count": 43,
   "id": "d9e18607-c4c3-401f-a198-ff6c3a75bdcb",
   "metadata": {
    "tags": []
   },
   "outputs": [
    {
     "data": {
      "application/vnd.jupyter.widget-view+json": {
       "model_id": "dfaa29ece8db43b8990818e2a894b68e",
       "version_major": 2,
       "version_minor": 0
      },
      "text/plain": [
       "Canvas(toolbar=Toolbar(toolitems=[('Home', 'Reset original view', 'home', 'home'), ('Back', 'Back to previous …"
      ]
     },
     "metadata": {},
     "output_type": "display_data"
    },
    {
     "data": {
      "text/html": [
       "<div>\n",
       "<style scoped>\n",
       "    .dataframe tbody tr th:only-of-type {\n",
       "        vertical-align: middle;\n",
       "    }\n",
       "\n",
       "    .dataframe tbody tr th {\n",
       "        vertical-align: top;\n",
       "    }\n",
       "\n",
       "    .dataframe thead th {\n",
       "        text-align: right;\n",
       "    }\n",
       "</style>\n",
       "<table border=\"1\" class=\"dataframe\">\n",
       "  <thead>\n",
       "    <tr style=\"text-align: right;\">\n",
       "      <th></th>\n",
       "      <th>chr</th>\n",
       "      <th>order</th>\n",
       "      <th>run</th>\n",
       "      <th>config</th>\n",
       "    </tr>\n",
       "  </thead>\n",
       "  <tbody>\n",
       "    <tr>\n",
       "      <th>3</th>\n",
       "      <td>2</td>\n",
       "      <td>B-P-O</td>\n",
       "      <td>40</td>\n",
       "      <td>40</td>\n",
       "    </tr>\n",
       "    <tr>\n",
       "      <th>11</th>\n",
       "      <td>6</td>\n",
       "      <td>B-O-P</td>\n",
       "      <td>40</td>\n",
       "      <td>40</td>\n",
       "    </tr>\n",
       "    <tr>\n",
       "      <th>17</th>\n",
       "      <td>9</td>\n",
       "      <td>B-O-P</td>\n",
       "      <td>40</td>\n",
       "      <td>40</td>\n",
       "    </tr>\n",
       "    <tr>\n",
       "      <th>18</th>\n",
       "      <td>10</td>\n",
       "      <td>B-P-O</td>\n",
       "      <td>40</td>\n",
       "      <td>40</td>\n",
       "    </tr>\n",
       "    <tr>\n",
       "      <th>29</th>\n",
       "      <td>15</td>\n",
       "      <td>B-P-O</td>\n",
       "      <td>40</td>\n",
       "      <td>40</td>\n",
       "    </tr>\n",
       "    <tr>\n",
       "      <th>48</th>\n",
       "      <td>23</td>\n",
       "      <td>B-P-O</td>\n",
       "      <td>39</td>\n",
       "      <td>39</td>\n",
       "    </tr>\n",
       "    <tr>\n",
       "      <th>50</th>\n",
       "      <td>24</td>\n",
       "      <td>B-P-O</td>\n",
       "      <td>40</td>\n",
       "      <td>40</td>\n",
       "    </tr>\n",
       "    <tr>\n",
       "      <th>53</th>\n",
       "      <td>26</td>\n",
       "      <td>B-P-O</td>\n",
       "      <td>40</td>\n",
       "      <td>40</td>\n",
       "    </tr>\n",
       "    <tr>\n",
       "      <th>59</th>\n",
       "      <td>29</td>\n",
       "      <td>B-P-O</td>\n",
       "      <td>40</td>\n",
       "      <td>40</td>\n",
       "    </tr>\n",
       "  </tbody>\n",
       "</table>\n",
       "</div>"
      ],
      "text/plain": [
       "    chr  order  run  config\n",
       "3     2  B-P-O   40      40\n",
       "11    6  B-O-P   40      40\n",
       "17    9  B-O-P   40      40\n",
       "18   10  B-P-O   40      40\n",
       "29   15  B-P-O   40      40\n",
       "48   23  B-P-O   39      39\n",
       "50   24  B-P-O   40      40\n",
       "53   26  B-P-O   40      40\n",
       "59   29  B-P-O   40      40"
      ]
     },
     "execution_count": 43,
     "metadata": {},
     "output_type": "execute_result"
    }
   ],
   "source": [
    "qq= df[(df['config']=='hifiasm')|(df['config']=='shasta')|(df['config']=='either')|(df['config']=='hs_shuf')].groupby(['chr','order']).count().reset_index()\n",
    "\n",
    "plt.figure()\n",
    "sns.scatterplot(data=qq,x='chr',y='run',hue='order')"
   ]
  },
  {
   "cell_type": "code",
   "execution_count": 23,
   "id": "af0ecec4-2c9a-4894-b9d7-97eaf9a102a4",
   "metadata": {
    "tags": []
   },
   "outputs": [
    {
     "data": {
      "text/plain": [
       "['O-P-B',\n",
       " 'B-O-P',\n",
       " 'B-O-P',\n",
       " 'O-P-B',\n",
       " 'B-O-P',\n",
       " 'B-O-P',\n",
       " 'O-P-B',\n",
       " 'B-P-O',\n",
       " 'B-O-P',\n",
       " 'O-P-B',\n",
       " 'B-O-P',\n",
       " 'O-P-B',\n",
       " 'B-O-P',\n",
       " 'O-P-B',\n",
       " 'O-P-B',\n",
       " 'O-P-B',\n",
       " 'B-O-P',\n",
       " 'B-O-P',\n",
       " 'O-P-B',\n",
       " 'B-O-P',\n",
       " 'O-P-B',\n",
       " 'O-P-B',\n",
       " 'B-O-P',\n",
       " 'O-P-B',\n",
       " 'B-P-O',\n",
       " 'B-P-O',\n",
       " 'B-O-P',\n",
       " 'B-P-O',\n",
       " 'O-P-B']"
      ]
     },
     "execution_count": 23,
     "metadata": {},
     "output_type": "execute_result"
    }
   ],
   "source": [
    "data='(gaur:0.376151,(nellore:0.117037,(bsw:0.0383929,(obv:0.036079,pied:0.036079):0.00231387):0.0786446):0.259113);(gaur:0.384387,(nellore:0.104898,(pied:0.0358684,(bsw:0.0336749,obv:0.0336749):0.00219359):0.0690295):0.279489);(gaur:0.393264,(nellore:0.112438,(pied:0.04183,(bsw:0.037261,obv:0.037261):0.00456896):0.0706083):0.280826);(gaur:0.399114,(nellore:0.122466,(bsw:0.0433282,(obv:0.0387218,pied:0.0387218):0.00460634):0.0791373):0.276648);(gaur:0.366217,(nellore:0.118095,(pied:0.0400524,(bsw:0.0372951,obv:0.0372951):0.00275733):0.0780421):0.248123);(gaur:0.394545,(nellore:0.111131,(pied:0.0436057,(bsw:0.0387256,obv:0.0387256):0.00488007):0.067525):0.283414);(gaur:0.409183,(nellore:0.112553,(bsw:0.0389752,(obv:0.0360255,pied:0.0360255):0.00294963):0.0735783):0.29663);(gaur:0.397388,(nellore:0.122268,(obv:0.0454757,(bsw:0.0351746,pied:0.0351746):0.0103011):0.0767922):0.275121);(gaur:0.398349,(nellore:0.105709,(pied:0.0400871,(bsw:0.0381708,obv:0.0381708):0.00191624):0.0656224):0.29264);(gaur:0.386962,(nellore:0.102029,(bsw:0.0406497,(obv:0.0385982,pied:0.0385982):0.00205157):0.061379):0.284933);(gaur:0.369279,(nellore:0.114112,(pied:0.0387218,(bsw:0.0361617,obv:0.0361617):0.00256012):0.0753905):0.255167);(gaur:0.380651,(nellore:0.13181,(bsw:0.0528749,(obv:0.0441349,pied:0.0441349):0.00874002):0.0789346):0.248842);(gaur:0.391107,(nellore:0.111082,(pied:0.0343925,(bsw:0.0314762,obv:0.0314762):0.00291624):0.0766893):0.280025);(gaur:0.39991,(nellore:0.104656,(bsw:0.0374423,(obv:0.0363872,pied:0.0363872):0.00105507):0.0672136):0.295254);(gaur:0.36453,(nellore:0.122061,(bsw:0.043176,(obv:0.040549,pied:0.040549):0.00262703):0.0788854):0.242469);(gaur:0.399314,(nellore:0.112428,(bsw:0.0385897,(obv:0.0364024,pied:0.0364024):0.00218733):0.0738385):0.286885);(gaur:0.388082,(nellore:0.11466,(pied:0.0401085,(bsw:0.0382637,obv:0.0382637):0.00184477):0.0745517):0.273422);(gaur:0.352804,(nellore:0.111778,(pied:0.0426599,(bsw:0.0388053,obv:0.0388053):0.00385459):0.0691186):0.241026);(gaur:0.397195,(nellore:0.100784,(bsw:0.0366994,(obv:0.0356394,pied:0.0356394):0.00105997):0.0640849):0.29641);(gaur:0.328738,(nellore:0.0994499,(pied:0.0365601,(bsw:0.0348973,obv:0.0348973):0.00166282):0.0628898):0.229288);(gaur:0.403084,(nellore:0.116689,(bsw:0.0409729,(obv:0.0313408,pied:0.0313408):0.00963216):0.0757156):0.286395);(gaur:0.391599,(nellore:0.0879211,(bsw:0.0306894,(obv:0.0303176,pied:0.0303176):0.000371842):0.0572316):0.303678);(gaur:0.330951,(nellore:0.123869,(pied:0.0526,(bsw:0.0465642,obv:0.0465642):0.00603579):0.0712689):0.207082);(gaur:0.365075,(nellore:0.116235,(bsw:0.0401447,(obv:0.0372307,pied:0.0372307):0.00291405):0.0760902):0.24884);(gaur:0.42264,(nellore:0.118208,(obv:0.0437409,(bsw:0.0410686,pied:0.0410686):0.00267231):0.0744673):0.304432);(gaur:0.390656,(nellore:0.113633,(obv:0.0397816,(bsw:0.0373379,pied:0.0373379):0.00244372):0.0738513):0.277023);(gaur:0.398647,(nellore:0.144023,(pied:0.036351,(bsw:0.0354978,obv:0.0354978):0.000853173):0.107672):0.254624);(gaur:0.384289,(nellore:0.141181,(obv:0.0394741,(bsw:0.0383582,pied:0.0383582):0.00111593):0.101707):0.243107);(gaur:0.355713,(nellore:0.129896,(bsw:0.0420809,(obv:0.0386343,pied:0.0386343):0.00344661):0.0878151):0.225817)'.replace('gaur','G').replace('bsw','B').replace('nellore','N').replace('obv','O').replace('pied','P')\n",
    "raw = [strip_tree(t).replace('(','').replace(')','').replace(',','')[2:] for t in data.split(';')]\n",
    "\n",
    "SNP = ['-'.join(sorted(i[1:])+[i[0]]) for i in raw]"
   ]
  },
  {
   "cell_type": "code",
   "execution_count": 80,
   "id": "e3675168-4bd4-4850-8330-691c4a320490",
   "metadata": {
    "tags": []
   },
   "outputs": [
    {
     "name": "stdout",
     "output_type": "stream",
     "text": [
      "hifiasm 10\n",
      "shasta 14\n",
      "hs_shuf 13\n",
      "either 10\n",
      "peregrine 11\n",
      "raven 7\n",
      "flye 11\n",
      "hicanu 10\n",
      "all_shuf 9\n",
      "all_eith 11\n"
     ]
    }
   ],
   "source": [
    "for t in ['hifiasm','shasta','hs_shuf','either','peregrine','raven','flye','hicanu','all_shuf','all_eith']:\n",
    "    most_c = []\n",
    "    for i in range(1,30):\n",
    "        dfa = df[(df['chr']==i)&(df['config']==t)]\n",
    "        most_c.append(Counter(dfa['order']).most_common(1)[0][0])\n",
    "    c= 0\n",
    "    for i,j in zip(most_c,SNP):\n",
    "        c+=(i==j)\n",
    "    print(t,c)"
   ]
  },
  {
   "cell_type": "code",
   "execution_count": 88,
   "id": "60af94ed-5b61-498f-806f-2e055bc092ea",
   "metadata": {
    "tags": []
   },
   "outputs": [
    {
     "data": {
      "application/vnd.jupyter.widget-view+json": {
       "model_id": "f6140acae18948db829be9f6a3b18a2d",
       "version_major": 2,
       "version_minor": 0
      },
      "text/plain": [
       "Canvas(toolbar=Toolbar(toolitems=[('Home', 'Reset original view', 'home', 'home'), ('Back', 'Back to previous …"
      ]
     },
     "metadata": {},
     "output_type": "display_data"
    }
   ],
   "source": [
    "g = sns.catplot(data=df,x='order',kind='count',hue='config',col='chr',col_wrap=4)#,order=['O-P-B','B-P-O','B-O-P'])\n",
    "for i,ax in enumerate(g.axes):\n",
    "    #ax.scatter(SNP[i],20)\n",
    "    ax.scatter('B-P-O',15,alpha=0)\n",
    "    ax.axvline(SNP[i])\n"
   ]
  },
  {
   "cell_type": "code",
   "execution_count": null,
   "id": "f11aed5c-c235-42cc-9628-6703d2ca6fc7",
   "metadata": {},
   "outputs": [],
   "source": [
    "import pandas as pd\n",
    "df = pd.read_csv('bad_regions.csv')"
   ]
  },
  {
   "cell_type": "code",
   "execution_count": 9,
   "id": "0cb614b5-1b0b-44cc-8f1a-b3e50b398143",
   "metadata": {},
   "outputs": [],
   "source": [
    "\n"
   ]
  },
  {
   "cell_type": "code",
   "execution_count": null,
   "id": "339818dc-0f41-4bc1-8fb6-cfdcb072c6a2",
   "metadata": {},
   "outputs": [],
   "source": [
    "sns.pairplot(data=df,hue='asm')"
   ]
  },
  {
   "cell_type": "code",
   "execution_count": null,
   "id": "ec4a7f6a-614e-4367-ba0b-44509b2f0269",
   "metadata": {},
   "outputs": [],
   "source": [
    "df.groupby('asm').mean()"
   ]
  },
  {
   "cell_type": "code",
   "execution_count": null,
   "id": "ba801fe7-3ff8-4fc0-ac65-dc25c0384859",
   "metadata": {},
   "outputs": [],
   "source": [
    "import scipy.stats as ss\n",
    "ss.mannwhitneyu(df[df['asm']=='P_hifiasm']['N_unaligned'],df[df['asm']=='P_shasta']['N_unaligned'])"
   ]
  },
  {
   "cell_type": "code",
   "execution_count": null,
   "id": "2fad7d25-a03e-4e4e-9c75-2da6c5ca3436",
   "metadata": {},
   "outputs": [],
   "source": [
    "f=[]\n",
    "for i in range(300,310):\n",
    "    x = df[df['run']==i]\n",
    "    l = [(row['asm'],row['N_uncalled']) for _,row in x.iterrows()]\n",
    "    f.append([q[0] for q in sorted(l,key=lambda i: i[1])])\n",
    "f"
   ]
  },
  {
   "cell_type": "code",
   "execution_count": null,
   "id": "22c46b66-febe-44b4-a3cb-29115057da64",
   "metadata": {},
   "outputs": [],
   "source": [
    "orders = [l.rstrip() for l in open('orders.txt')]"
   ]
  }
 ],
 "metadata": {
  "kernelspec": {
   "display_name": "Python 3 (ipykernel)",
   "language": "python",
   "name": "python3"
  },
  "language_info": {
   "codemirror_mode": {
    "name": "ipython",
    "version": 3
   },
   "file_extension": ".py",
   "mimetype": "text/x-python",
   "name": "python",
   "nbconvert_exporter": "python",
   "pygments_lexer": "ipython3",
   "version": "3.10.4"
  }
 },
 "nbformat": 4,
 "nbformat_minor": 5
}
