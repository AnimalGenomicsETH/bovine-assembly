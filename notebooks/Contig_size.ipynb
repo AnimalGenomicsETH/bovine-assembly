{
 "cells": [
  {
   "cell_type": "code",
   "execution_count": 1,
   "id": "6f1eb84c-d28c-4a72-a3cc-351474f94a9d",
   "metadata": {},
   "outputs": [],
   "source": [
    "%matplotlib widget\n",
    "import pandas as pd\n",
    "import seaborn as sns\n",
    "from matplotlib import pyplot as plt\n"
   ]
  },
  {
   "cell_type": "code",
   "execution_count": 33,
   "id": "07318d8c-03a8-418c-a8e1-1c44b5387446",
   "metadata": {},
   "outputs": [],
   "source": [
    "df = pd.read_csv('breed.lengths.csv')\n",
    "reads = {'hifiasm':'HiFi','canu':'HiFi','peregrine':'HiFi','shasta':'ONT','flye':'ONT','raven':'ONT'}\n",
    "df['read'] = [reads[asm] for asm in df['assembler']]\n",
    "refs = {\"1\":158534110,\"2\":136231102,\"3\":121005158,\"4\":120000601,\"5\":120089316,\"6\":117806340,\"7\":110682743,\"8\":113319770,\"9\":105454467,\"10\":103308737,\"11\":106982474,\"12\":87216183,\"13\":83472345,\"14\":82403003,\"15\":85007780,\"16\":81013979,\"17\":73167244,\"18\":65820629,\"19\":63449741,\"20\":71974595,\"21\":69862954,\"22\":60773035,\"23\":52498615,\"24\":62317253,\"25\":42350435,\"26\":51992305,\"27\":45612108,\"28\":45940150,\"29\":51098607,\"MT\":16340,\"X\":139009144,\"Y\":43300181}\n",
    "palette = {'hifiasm':'r','canu':'orange','peregrine':'gold','shasta':'b','flye':'c','raven':'purple'}\n",
    "df['delta'] = [l-refs[x] for x,l in zip(df['chromosome'],df['length'])]"
   ]
  },
  {
   "cell_type": "code",
   "execution_count": 37,
   "id": "12796ea3-22c8-4813-93bd-4dbc1001bed1",
   "metadata": {
    "tags": []
   },
   "outputs": [
    {
     "data": {
      "application/vnd.jupyter.widget-view+json": {
       "model_id": "cd67e4e16fb9444c80989c02f19c9412",
       "version_major": 2,
       "version_minor": 0
      },
      "text/plain": [
       "Canvas(toolbar=Toolbar(toolitems=[('Home', 'Reset original view', 'home', 'home'), ('Back', 'Back to previous …"
      ]
     },
     "metadata": {},
     "output_type": "display_data"
    }
   ],
   "source": [
    "plt.close('all')\n",
    "\n",
    "#g =  sns.FacetGrid(data=df, col='chromosome', col_wrap=6,sharey=False,col_order=refs.keys())\n",
    "#for i,m in zip(['HiFi','ONT'],('D','o')):\n",
    "#    df_x = df[df['read']==i]\n",
    "#    g.map_dataframe(sns.stripplot,x='assembler',y='length',hue='assembler',marker=m,data=df_x,palette=palette)\n",
    "\n",
    "#g.add_legend()\n",
    "g= sns.catplot(data=df,kind='strip',x='breed',y='delta',col='chromosome',palette=palette,col_wrap=6,hue='assembler',col_order=refs.keys(),legend=True,sharey=False)\n",
    "for c,ax in zip(refs.keys(),g.axes):\n",
    "    ax.axhline(y=0,c='k',ls='--')#refs[str(c)])\n"
   ]
  },
  {
   "cell_type": "code",
   "execution_count": 54,
   "id": "913dbde7-2940-4821-9c8a-773a469270e2",
   "metadata": {},
   "outputs": [
    {
     "data": {
      "application/vnd.jupyter.widget-view+json": {
       "model_id": "fb231ef55030443d9d78cf07d0fed042",
       "version_major": 2,
       "version_minor": 0
      },
      "text/plain": [
       "Canvas(toolbar=Toolbar(toolitems=[('Home', 'Reset original view', 'home', 'home'), ('Back', 'Back to previous …"
      ]
     },
     "metadata": {},
     "output_type": "display_data"
    },
    {
     "data": {
      "text/plain": [
       "<matplotlib.lines.Line2D at 0x7f97c2210880>"
      ]
     },
     "execution_count": 54,
     "metadata": {},
     "output_type": "execute_result"
    }
   ],
   "source": [
    "f,ax = plt.subplots()\n",
    "dfx = df[(df['assembler']=='hifiasm')|(df['assembler']=='shasta')]\n",
    "for i,m in zip(['HiFi','ONT'],('D','o')):\n",
    "    df_x = dfx[dfx['read']==i]\n",
    "    f2=sns.stripplot(data=df_x,x='chromosome',y='delta',hue='breed',marker=m,order=refs.keys(),ax=ax,dodge=True)\n",
    "#ax.scatter(refs.keys(),refs.values(),marker='D',ec='k',fc='none')\n",
    "ax.axhline(y=0)"
   ]
  },
  {
   "cell_type": "code",
   "execution_count": 52,
   "id": "cf23d20d-1c0d-49b8-8625-b05bcb2d4277",
   "metadata": {},
   "outputs": [
    {
     "data": {
      "text/plain": [
       "read\n",
       "HiFi    1.267767e+06\n",
       "ONT    -9.779183e+05\n",
       "Name: delta, dtype: float64"
      ]
     },
     "execution_count": 52,
     "metadata": {},
     "output_type": "execute_result"
    }
   ],
   "source": [
    "df.groupby(['read'])['delta'].mean()"
   ]
  },
  {
   "cell_type": "code",
   "execution_count": 55,
   "id": "a265e2f1-2e2b-4cd1-b995-b54491c57b5c",
   "metadata": {},
   "outputs": [
    {
     "data": {
      "text/plain": [
       "read\n",
       "HiFi    2.286066e+06\n",
       "ONT    -1.176026e+06\n",
       "Name: delta, dtype: float64"
      ]
     },
     "execution_count": 55,
     "metadata": {},
     "output_type": "execute_result"
    }
   ],
   "source": [
    "dfx.groupby(['read'])['delta'].mean()"
   ]
  },
  {
   "cell_type": "code",
   "execution_count": 81,
   "id": "655902f9-e5f2-4e46-87e2-36fcdd1a5b95",
   "metadata": {},
   "outputs": [
    {
     "data": {
      "text/html": [
       "<div>\n",
       "<style scoped>\n",
       "    .dataframe tbody tr th:only-of-type {\n",
       "        vertical-align: middle;\n",
       "    }\n",
       "\n",
       "    .dataframe tbody tr th {\n",
       "        vertical-align: top;\n",
       "    }\n",
       "\n",
       "    .dataframe thead th {\n",
       "        text-align: right;\n",
       "    }\n",
       "</style>\n",
       "<table border=\"1\" class=\"dataframe\">\n",
       "  <thead>\n",
       "    <tr style=\"text-align: right;\">\n",
       "      <th></th>\n",
       "      <th>trio</th>\n",
       "      <th>assembler</th>\n",
       "      <th>chromosome</th>\n",
       "      <th>length</th>\n",
       "      <th>read</th>\n",
       "      <th>delta</th>\n",
       "    </tr>\n",
       "    <tr>\n",
       "      <th>breed</th>\n",
       "      <th></th>\n",
       "      <th></th>\n",
       "      <th></th>\n",
       "      <th></th>\n",
       "      <th></th>\n",
       "      <th></th>\n",
       "    </tr>\n",
       "  </thead>\n",
       "  <tbody>\n",
       "    <tr>\n",
       "      <th>BSW</th>\n",
       "      <td>6</td>\n",
       "      <td>6</td>\n",
       "      <td>6</td>\n",
       "      <td>6</td>\n",
       "      <td>6</td>\n",
       "      <td>6</td>\n",
       "    </tr>\n",
       "    <tr>\n",
       "      <th>Nellore</th>\n",
       "      <td>1</td>\n",
       "      <td>1</td>\n",
       "      <td>1</td>\n",
       "      <td>1</td>\n",
       "      <td>1</td>\n",
       "      <td>1</td>\n",
       "    </tr>\n",
       "    <tr>\n",
       "      <th>OBV</th>\n",
       "      <td>4</td>\n",
       "      <td>4</td>\n",
       "      <td>4</td>\n",
       "      <td>4</td>\n",
       "      <td>4</td>\n",
       "      <td>4</td>\n",
       "    </tr>\n",
       "    <tr>\n",
       "      <th>Piemontese</th>\n",
       "      <td>4</td>\n",
       "      <td>4</td>\n",
       "      <td>4</td>\n",
       "      <td>4</td>\n",
       "      <td>4</td>\n",
       "      <td>4</td>\n",
       "    </tr>\n",
       "  </tbody>\n",
       "</table>\n",
       "</div>"
      ],
      "text/plain": [
       "            trio  assembler  chromosome  length  read  delta\n",
       "breed                                                       \n",
       "BSW            6          6           6       6     6      6\n",
       "Nellore        1          1           1       1     1      1\n",
       "OBV            4          4           4       4     4      4\n",
       "Piemontese     4          4           4       4     4      4"
      ]
     },
     "execution_count": 81,
     "metadata": {},
     "output_type": "execute_result"
    }
   ],
   "source": [
    "df_m = df[df['chromosome']=='MT']\n",
    "df_m.groupby('breed').count()"
   ]
  }
 ],
 "metadata": {
  "kernelspec": {
   "display_name": "Python 3 (ipykernel)",
   "language": "python",
   "name": "python3"
  },
  "language_info": {
   "codemirror_mode": {
    "name": "ipython",
    "version": 3
   },
   "file_extension": ".py",
   "mimetype": "text/x-python",
   "name": "python",
   "nbconvert_exporter": "python",
   "pygments_lexer": "ipython3",
   "version": "3.10.4"
  }
 },
 "nbformat": 4,
 "nbformat_minor": 5
}
